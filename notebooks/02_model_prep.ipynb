{
 "cells": [
  {
   "cell_type": "code",
   "execution_count": 15,
   "id": "a16e684b",
   "metadata": {},
   "outputs": [
    {
     "name": "stdout",
     "output_type": "stream",
     "text": [
      "✅ Data loaded successfully. Shape: (200, 40)\n"
     ]
    }
   ],
   "source": [
    "import pandas as pd\n",
    "import joblib\n",
    "from sklearn.model_selection import train_test_split\n",
    "from sklearn.compose import ColumnTransformer\n",
    "from sklearn.preprocessing import OneHotEncoder\n",
    "from sklearn.pipeline import Pipeline\n",
    "from sklearn.ensemble import RandomForestClassifier\n",
    "from sklearn.metrics import accuracy_score, classification_report\n",
    "\n",
    "# Load your cleaned merged dataset\n",
    "df = pd.read_csv(\"/Users/snigdhajhureley/Desktop/OFI PROJECT /data/merged_data_clean.csv\")\n",
    "\n",
    "# Ensure target column exists\n",
    "if \"is_delayed\" not in df.columns:\n",
    "    df[\"delivery_delay_days\"] = df[\"actual_delivery_days\"] - df[\"promised_delivery_days\"]\n",
    "    df[\"is_delayed\"] = (df[\"delivery_delay_days\"] > 0).astype(int)\n",
    "\n",
    "print(\"✅ Data loaded successfully. Shape:\", df.shape)\n"
   ]
  },
  {
   "cell_type": "code",
   "execution_count": 16,
   "id": "b3fab0e8",
   "metadata": {},
   "outputs": [
    {
     "name": "stdout",
     "output_type": "stream",
     "text": [
      "Categorical columns: ['order_id', 'order_date', 'customer_segment', 'priority', 'product_category', 'origin', 'destination', 'special_handling', 'carrier', 'delivery_status', 'quality_issue', 'route', 'weather_impact', 'feedback_date', 'feedback_text', 'would_recommend', 'issue_category']\n",
      "Numeric columns: ['order_value_inr', 'promised_delivery_days', 'actual_delivery_days', 'customer_rating', 'delivery_cost_inr', 'distance_km', 'fuel_consumption_l', 'toll_charges_inr', 'traffic_delay_minutes', 'fuel_cost', 'labor_cost', 'vehicle_maintenance', 'insurance', 'packaging_cost', 'technology_platform_fee', 'other_overhead', 'rating', 'total_cost', 'delivery_delay_days', 'cost_per_km', 'traffic_delay_hours', 'priority_encoded']\n"
     ]
    }
   ],
   "source": [
    "X = df.drop(\"is_delayed\", axis=1)\n",
    "y = df[\"is_delayed\"]\n",
    "\n",
    "# Identify categorical and numeric columns\n",
    "cat_cols = X.select_dtypes(include=[\"object\"]).columns\n",
    "num_cols = X.select_dtypes(exclude=[\"object\"]).columns\n",
    "\n",
    "print(\"Categorical columns:\", list(cat_cols))\n",
    "print(\"Numeric columns:\", list(num_cols))\n"
   ]
  },
  {
   "cell_type": "code",
   "execution_count": 17,
   "id": "56f29074",
   "metadata": {},
   "outputs": [],
   "source": [
    "# Create a preprocessing transformer for categorical data\n",
    "preprocessor = ColumnTransformer(\n",
    "    transformers=[\n",
    "        (\"cat\", OneHotEncoder(handle_unknown=\"ignore\"), cat_cols)\n",
    "    ],\n",
    "    remainder=\"passthrough\"  # keep numeric columns as they are\n",
    ")\n",
    "\n",
    "# Combine preprocessing + RandomForest in a pipeline\n",
    "model_pipeline = Pipeline(steps=[\n",
    "    (\"preprocessor\", preprocessor),\n",
    "    (\"classifier\", RandomForestClassifier(n_estimators=200, max_depth=10, random_state=42))\n",
    "])\n"
   ]
  },
  {
   "cell_type": "code",
   "execution_count": 18,
   "id": "abc62e19",
   "metadata": {},
   "outputs": [
    {
     "name": "stdout",
     "output_type": "stream",
     "text": [
      "✅ Model pipeline trained successfully!\n"
     ]
    }
   ],
   "source": [
    "X_train, X_test, y_train, y_test = train_test_split(X, y, test_size=0.2, random_state=42, stratify=y)\n",
    "\n",
    "model_pipeline.fit(X_train, y_train)\n",
    "\n",
    "print(\"✅ Model pipeline trained successfully!\")\n"
   ]
  },
  {
   "cell_type": "code",
   "execution_count": 21,
   "id": "02e1bb8b",
   "metadata": {},
   "outputs": [
    {
     "name": "stdout",
     "output_type": "stream",
     "text": [
      "\n",
      "📊 Model Evaluation:\n",
      "Accuracy: 1.0\n",
      "              precision    recall  f1-score   support\n",
      "\n",
      "           0       1.00      1.00      1.00        16\n",
      "           1       1.00      1.00      1.00        24\n",
      "\n",
      "    accuracy                           1.00        40\n",
      "   macro avg       1.00      1.00      1.00        40\n",
      "weighted avg       1.00      1.00      1.00        40\n",
      "\n"
     ]
    }
   ],
   "source": [
    "y_pred = model_pipeline.predict(X_test)\n",
    "print(\"\\n📊 Model Evaluation:\")\n",
    "print(\"Accuracy:\", accuracy_score(y_test, y_pred))\n",
    "print(classification_report(y_test, y_pred))\n"
   ]
  },
  {
   "cell_type": "code",
   "execution_count": 23,
   "id": "297773a3",
   "metadata": {},
   "outputs": [
    {
     "name": "stdout",
     "output_type": "stream",
     "text": [
      "✅ Model saved as app/model.pkl\n"
     ]
    }
   ],
   "source": [
    "# Save inside the app folder so Streamlit can access it\n",
    "joblib.dump(model_pipeline, \"/Users/snigdhajhureley/Desktop/OFI PROJECT /app/model.pkl\")\n",
    "\n",
    "print(\"✅ Model saved as app/model.pkl\")\n"
   ]
  },
  {
   "cell_type": "code",
   "execution_count": null,
   "id": "3d18c315",
   "metadata": {},
   "outputs": [],
   "source": []
  }
 ],
 "metadata": {
  "kernelspec": {
   "display_name": "venv",
   "language": "python",
   "name": "python3"
  },
  "language_info": {
   "codemirror_mode": {
    "name": "ipython",
    "version": 3
   },
   "file_extension": ".py",
   "mimetype": "text/x-python",
   "name": "python",
   "nbconvert_exporter": "python",
   "pygments_lexer": "ipython3",
   "version": "3.9.6"
  }
 },
 "nbformat": 4,
 "nbformat_minor": 5
}

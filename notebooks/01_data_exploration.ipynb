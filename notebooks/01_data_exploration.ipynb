{
 "cells": [
  {
   "cell_type": "code",
   "execution_count": null,
   "id": "e735165a",
   "metadata": {
    "vscode": {
     "languageId": "plaintext"
    }
   },
   "outputs": [],
   "source": [
    "import pandas as pd\n",
    "import numpy as np\n",
    "import matplotlib.pyplot as plt\n",
    "import seaborn as sns\n"
   ]
  },
  {
   "cell_type": "code",
   "execution_count": null,
   "id": "0395cdcd",
   "metadata": {
    "vscode": {
     "languageId": "plaintext"
    }
   },
   "outputs": [],
   "source": [
    "paths = {\n",
    "    \"orders\": \"../data/orders.csv\",\n",
    "    \"vehicle_fleet\": \"../data/vehicle_fleet.csv\",\n",
    "    \"warehouse_inventory\": \"../data/warehouse_inventory.csv\",\n",
    "    \"routes_distance\": \"../data/routes_distance.csv\",\n",
    "    \"delivery_performance\": \"../data/delivery_performance.csv\",\n",
    "    \"cost_breakdown\": \"../data/cost_breakdown.csv\",\n",
    "    \"customer_feedback\": \"../data/customer_feedback.csv\"\n",
    "}\n",
    "\n",
    "dfs = {name: pd.read_csv(path) for name, path in paths.items()}\n",
    "for name, df in dfs.items():\n",
    "    print(f\"\\n{name.upper()}  →  {df.shape}\")\n",
    "    display(df.head())"
   ]
  },
  {
   "cell_type": "code",
   "execution_count": null,
   "id": "17606952",
   "metadata": {
    "vscode": {
     "languageId": "plaintext"
    }
   },
   "outputs": [],
   "source": [
    "for name, df in dfs.items():\n",
    "    print(f\"\\n{name.upper()}\")\n",
    "    print(df.info())\n",
    "    print(df.describe(include='all').T.head())\n"
   ]
  }
 ],
 "metadata": {
  "language_info": {
   "name": "python"
  }
 },
 "nbformat": 4,
 "nbformat_minor": 5
}
